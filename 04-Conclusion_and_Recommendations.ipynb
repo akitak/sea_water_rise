{
 "cells": [
  {
   "cell_type": "markdown",
   "metadata": {},
   "source": [
    "## Conclusion and Recommendations"
   ]
  },
  {
   "cell_type": "markdown",
   "metadata": {},
   "source": [
    "In this study, we looked to build a machine learning model that can accurately predict the sea level in the greater Alaskan coast given certain meteorological parameters. When building these models, we used the Root Mean Squared Error (RMSE) as an evaluation metric since it helps us compare the performance of our models predictions. Our baseline score was an RMSE of 443.97, which resulted from a multiple linear regression using all of our initial features. The Random Forest model ended up performing the best with an RMSE of 192.9, which is a marked improvement on our baseline by about ~2.3x. In addition to this, the Random Forest model had a R-squared score of 98.98% on the training data and a R-squared score of 96.39% on the testing data. Unsurprisingly, the R-squared score on the testing data was the highest among our different models. We recommend regulators use our Random Forest model for predicting sea level due to its low RMSE and high R-squared score. \n",
    "\n",
    "Random Forest models offer a level of interpretability over say black-box models like the recurrent neural network (RNN) model we trained, in addition to being more cost-effective and simpler in training. We are able to extract our feature importances form our Random Forest model and we found Elevation and Longitude to be the more important features in predicting the sea level in Alaska. In terms of interpretation, this makes sense in that the innate elevation of each weather station will play a large part in determing the sea level. Sea level is read using tide gauges which have a zero-reference for each given station, or rather a fixed base elevation at a tide station to which all water level measurements are referred. In conjunction with latitude, the geographic location of each tide station played the largest part in mapping its sea level. \n",
    "\n",
    "Climate change data was included in our dataset as atmospheric Carbon Dioxide (CO2) Dry Air Mole fractions, recorded by the Barrow Atmospheric Baseline Observatory (BRW) located in Utqiaġvik, Alaska. The readings from the BRW are characterized as 'having an Arctic maritime climate affected by variations of weather and sea ice conditions in the Central Arctic' due to its close proximity to the Arctic Ocean. Despite our presumptions regarding Carbon Dioxide and rising sea level due to its trapping of heat, we found there was almost no correlation between the atmospheric CO2 in BRW and the sea level from our weather stations. Interestingly enough, portions of Alaska have *decreasing* sea levels due to a process called glacial isostatic adjustment. This is the process where even if melting ice sheets in Alaska are contributing to sea level rise across the globe, the volume of ice melt actually leads to a decrease in sea levels off the Alaskan coast. Think of the ice in Alaska's land as a moon with its own gravitational pull.. as the moon itself loses mass, the gravitational pull will be weaker which will then lead to lowered sea levels around Alaska. This may explain why atmospheric CO2 concentration did not play a large part in our models. \n",
    "\n",
    "With this in mind, in further studies, it is recommended to make predictions using isolated station data since their location (latitude and elevation) played such a large part in the predictive power of our models. If doing so, it would be recommended to use more frequent data observations such as hourly average when it comes to sea level to increase the overall sample population. Future studies should account for the glacial isostatic adjustment in Alaska which makes it such a unique area to study in regards to sea level rise. We would also recommend recording new station data around the Alaskan coast. There was a lack of historical data from coastlines in the northeast and northern regions of Alaska, with which if more station points were available, could only improve future models by having a wealth of data points tied around different elevations. Finally, incorporating a diverse set of features such as sea surface salinity, sea surface temperature, and mean sea level pressure (2020, Sithara) would further enhance research into this area. \n",
    "\n"
   ]
  },
  {
   "cell_type": "code",
   "execution_count": null,
   "metadata": {},
   "outputs": [],
   "source": []
  }
 ],
 "metadata": {
  "kernelspec": {
   "display_name": "Python 3",
   "language": "python",
   "name": "python3"
  },
  "language_info": {
   "codemirror_mode": {
    "name": "ipython",
    "version": 3
   },
   "file_extension": ".py",
   "mimetype": "text/x-python",
   "name": "python",
   "nbconvert_exporter": "python",
   "pygments_lexer": "ipython3",
   "version": "3.8.5"
  }
 },
 "nbformat": 4,
 "nbformat_minor": 5
}
